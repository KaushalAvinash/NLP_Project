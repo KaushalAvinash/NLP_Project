{
 "cells": [
  {
   "cell_type": "code",
   "execution_count": 3,
   "metadata": {},
   "outputs": [
    {
     "data": {
      "text/plain": [
       "'c:\\\\Users\\\\avina\\\\mlopsudemy\\\\NLP_Project'"
      ]
     },
     "execution_count": 3,
     "metadata": {},
     "output_type": "execute_result"
    }
   ],
   "source": [
    "import os\n",
    "os.chdir(\"../\")\n",
    "%pwd"
   ]
  },
  {
   "cell_type": "code",
   "execution_count": 4,
   "metadata": {},
   "outputs": [
    {
     "data": {
      "text/plain": [
       "'c:\\\\Users\\\\avina\\\\mlopsudemy\\\\NLP_Project'"
      ]
     },
     "execution_count": 4,
     "metadata": {},
     "output_type": "execute_result"
    }
   ],
   "source": [
    "%pwd"
   ]
  },
  {
   "cell_type": "code",
   "execution_count": 33,
   "metadata": {},
   "outputs": [],
   "source": [
    "import os,sys\n",
    "import pandas as pd\n",
    "import numpy as np\n",
    "import gdown\n",
    "import zipfile\n",
    "from hate_speech.utils import *\n",
    "from hate_speech.entity.config_entity import DataIngestionConfig\n",
    "from hate_speech.entity.artifact_entity import DataIngestionArtifacts\n",
    "from hate_speech.logger import logging\n",
    "from hate_speech.exception import CustomException\n",
    "from dataclasses import dataclass"
   ]
  },
  {
   "cell_type": "code",
   "execution_count": 56,
   "metadata": {},
   "outputs": [
    {
     "name": "stderr",
     "output_type": "stream",
     "text": [
      "<>:7: SyntaxWarning: invalid escape sequence '\\d'\n",
      "<>:7: SyntaxWarning: invalid escape sequence '\\d'\n",
      "C:\\Users\\avina\\AppData\\Local\\Temp\\ipykernel_5896\\3850669979.py:7: SyntaxWarning: invalid escape sequence '\\d'\n",
      "  DATA_PATH = \"Data\\dataset.zip\"\n"
     ]
    }
   ],
   "source": [
    "\n",
    "from datetime import datetime\n",
    "\n",
    "# Common constants\n",
    "TIMESTAMP: str = datetime.now().strftime(\"%m_%d_%Y_%H_%M_%S\")\n",
    "ARTIFACTS_DIR = os.path.join(\"artifacts\", TIMESTAMP)\n",
    "ZIP_FILE_NAME = 'dataset.zip'\n",
    "DATA_PATH = \"Data\\dataset.zip\"\n",
    "LABEL = 'label'\n",
    "TWEET = 'tweet'\n",
    "DATA_INGESTION_ARTIFACTS_DIR = \"DataIngestionArtifacts\"\n",
    "DATA_INGESTION_IMBALANCE_DATA_DIR = \"imbalanced_data.csv\"\n",
    "DATA_INGESTION_RAW_DATA_DIR = \"raw_data.csv\""
   ]
  },
  {
   "cell_type": "code",
   "execution_count": 57,
   "metadata": {},
   "outputs": [],
   "source": [
    "@dataclass\n",
    "class DataIngestionConfig:\n",
    "    def __init__(self):\n",
    "        self.ZIP_FILE_NAME = ZIP_FILE_NAME\n",
    "        self.DATA_INGESTION_ARTIFACTS_DIR:str = os.path.join(os.getcwd(),ARTIFACTS_DIR,DATA_INGESTION_ARTIFACTS_DIR)\n",
    "        self.DATA_ARTIFACTS_DIR:str = os.path.join(self.DATA_INGESTION_ARTIFACTS_DIR,DATA_INGESTION_IMBALANCE_DATA_DIR)\n",
    "        self.NEW_DATA_ARTIFACTS_DIR:str = os.path.join(self.DATA_INGESTION_ARTIFACTS_DIR,DATA_INGESTION_RAW_DATA_DIR)\n",
    "        self.ZIP_FILE_PATH = os.path.join(self.DATA_INGESTION_ARTIFACTS_DIR,DATA_PATH)"
   ]
  },
  {
   "cell_type": "code",
   "execution_count": 58,
   "metadata": {},
   "outputs": [],
   "source": [
    "@dataclass\n",
    "class DataIngestionArtifacts:\n",
    "    imbalance_data_file_path: str\n",
    "    raw_data_file_path: str"
   ]
  },
  {
   "cell_type": "code",
   "execution_count": 65,
   "metadata": {},
   "outputs": [],
   "source": [
    "import time\n",
    "class DataIngestion:\n",
    "    def __init__(self,data_ingestion_config:DataIngestionConfig):\n",
    "        self.data_ingestion_config = data_ingestion_config\n",
    "        data_ingestion_artifact=os.makedirs(self.data_ingestion_config.DATA_INGESTION_ARTIFACTS_DIR, exist_ok=True)\n",
    "        source = Path(\"Data/dataset.zip\")\n",
    "        destination = Path(data_ingestion_artifact)\n",
    "        source.replace(destination)\n",
    "\n",
    "        \n",
    "    \n",
    "    def unzip_and_clean(self):\n",
    "        logging.info(\"Entered the unzip_and_clean method of Data ingestion class\")\n",
    "        try: \n",
    "            unzip_path = self.data_ingestion_config.DATA_INGESTION_ARTIFACTS_DIR\n",
    "            os.makedirs(unzip_path, exist_ok=True)\n",
    "\n",
    "            with zipfile.ZipFile(self.data_ingestion_config.DATA_INGESTION_ARTIFACTS_DIR, 'r') as zip_ref:\n",
    "                zip_ref.extractall(unzip_path)\n",
    "\n",
    "            logging.info(\"Exited the unzip_and_clean method of Data ingestion class\")\n",
    "\n",
    "            return self.data_ingestion_config.DATA_ARTIFACTS_DIR, self.data_ingestion_config.NEW_DATA_ARTIFACTS_DIR\n",
    "\n",
    "        except Exception as e:\n",
    "            raise CustomException(e, sys)\n",
    "        \n",
    "    def initiate_data_ingestion(self):\n",
    "        imbalance_data_file_path, raw_data_file_path = self.unzip_and_clean()\n",
    "        logging.info(\"Unzipped file and split into train and valid\")\n",
    "\n",
    "        data_ingestion_artifacts = DataIngestionArtifacts(\n",
    "            imbalance_data_file_path= imbalance_data_file_path,\n",
    "            raw_data_file_path = raw_data_file_path\n",
    "        )\n",
    "\n",
    "        logging.info(\"Exited the initiate_data_ingestion method of Data ingestion class\")\n",
    "\n",
    "        logging.info(f\"Data ingestion artifact: {data_ingestion_artifacts}\")\n",
    "\n",
    "        return data_ingestion_artifacts\n",
    "\n",
    "       "
   ]
  },
  {
   "cell_type": "code",
   "execution_count": 66,
   "metadata": {},
   "outputs": [],
   "source": [
    "class TrainingPipeline:\n",
    "    def __init__(self):\n",
    "        self.data_ingestion_config = DataIngestionConfig()\n",
    "\n",
    "    def start_data_ingestion(self) -> DataIngestionArtifacts:\n",
    "        logging.info(\"Entered the start_data_ingestion method of TrainPipeline class\")\n",
    "        try:\n",
    "            logging.info(\"Getting the data from Gdrive\")\n",
    "            data_ingestion = DataIngestion(data_ingestion_config = self.data_ingestion_config)\n",
    "\n",
    "            data_ingestion_artifacts = data_ingestion.initiate_data_ingestion()\n",
    "            logging.info(\"Got the train and valid data\")\n",
    "            logging.info(\"Exited the start_data_ingestion method of TrainPipeline class\")\n",
    "            return data_ingestion_artifacts\n",
    "\n",
    "        except Exception as e:\n",
    "            raise CustomException(e, sys) from e\n",
    "        \n",
    "    def run_pipeline(self):\n",
    "        logging.info(\"Entered the run_pipeline method of TrainPipeline class\")\n",
    "        try:\n",
    "            data_ingestion_artifacts = self.start_data_ingestion()\n",
    "        except Exception as e:\n",
    "            raise CustomException(e, sys) from e"
   ]
  },
  {
   "cell_type": "code",
   "execution_count": 67,
   "metadata": {},
   "outputs": [
    {
     "ename": "CustomException",
     "evalue": "Error occurred python script name [C:\\Users\\avina\\AppData\\Local\\Temp\\ipykernel_5896\\1738430541.py] line number [22] error message [Error occurred python script name [C:\\Users\\avina\\AppData\\Local\\Temp\\ipykernel_5896\\1738430541.py] line number [9] error message [argument should be a str or an os.PathLike object where __fspath__ returns a str, not 'NoneType']]",
     "output_type": "error",
     "traceback": [
      "\u001b[1;31m---------------------------------------------------------------------------\u001b[0m",
      "\u001b[1;31mTypeError\u001b[0m                                 Traceback (most recent call last)",
      "Cell \u001b[1;32mIn[66], line 9\u001b[0m, in \u001b[0;36mTrainingPipeline.start_data_ingestion\u001b[1;34m(self)\u001b[0m\n\u001b[0;32m      8\u001b[0m logging\u001b[38;5;241m.\u001b[39minfo(\u001b[38;5;124m\"\u001b[39m\u001b[38;5;124mGetting the data from Gdrive\u001b[39m\u001b[38;5;124m\"\u001b[39m)\n\u001b[1;32m----> 9\u001b[0m data_ingestion \u001b[38;5;241m=\u001b[39m \u001b[43mDataIngestion\u001b[49m\u001b[43m(\u001b[49m\u001b[43mdata_ingestion_config\u001b[49m\u001b[43m \u001b[49m\u001b[38;5;241;43m=\u001b[39;49m\u001b[43m \u001b[49m\u001b[38;5;28;43mself\u001b[39;49m\u001b[38;5;241;43m.\u001b[39;49m\u001b[43mdata_ingestion_config\u001b[49m\u001b[43m)\u001b[49m\n\u001b[0;32m     11\u001b[0m data_ingestion_artifacts \u001b[38;5;241m=\u001b[39m data_ingestion\u001b[38;5;241m.\u001b[39minitiate_data_ingestion()\n",
      "Cell \u001b[1;32mIn[65], line 7\u001b[0m, in \u001b[0;36mDataIngestion.__init__\u001b[1;34m(self, data_ingestion_config)\u001b[0m\n\u001b[0;32m      6\u001b[0m source \u001b[38;5;241m=\u001b[39m Path(\u001b[38;5;124m\"\u001b[39m\u001b[38;5;124mData/dataset.zip\u001b[39m\u001b[38;5;124m\"\u001b[39m)\n\u001b[1;32m----> 7\u001b[0m destination \u001b[38;5;241m=\u001b[39m \u001b[43mPath\u001b[49m\u001b[43m(\u001b[49m\u001b[43mdata_ingestion_artifact\u001b[49m\u001b[43m)\u001b[49m\n\u001b[0;32m      8\u001b[0m source\u001b[38;5;241m.\u001b[39mreplace(destination)\n",
      "File \u001b[1;32mc:\\Users\\avina\\anaconda3\\envs\\nlp\\Lib\\pathlib.py:1162\u001b[0m, in \u001b[0;36mPath.__init__\u001b[1;34m(self, *args, **kwargs)\u001b[0m\n\u001b[0;32m   1161\u001b[0m     warnings\u001b[38;5;241m.\u001b[39m_deprecated(\u001b[38;5;124m\"\u001b[39m\u001b[38;5;124mpathlib.PurePath(**kwargs)\u001b[39m\u001b[38;5;124m\"\u001b[39m, msg, remove\u001b[38;5;241m=\u001b[39m(\u001b[38;5;241m3\u001b[39m, \u001b[38;5;241m14\u001b[39m))\n\u001b[1;32m-> 1162\u001b[0m \u001b[38;5;28;43msuper\u001b[39;49m\u001b[43m(\u001b[49m\u001b[43m)\u001b[49m\u001b[38;5;241;43m.\u001b[39;49m\u001b[38;5;21;43m__init__\u001b[39;49m\u001b[43m(\u001b[49m\u001b[38;5;241;43m*\u001b[39;49m\u001b[43margs\u001b[49m\u001b[43m)\u001b[49m\n",
      "File \u001b[1;32mc:\\Users\\avina\\anaconda3\\envs\\nlp\\Lib\\pathlib.py:373\u001b[0m, in \u001b[0;36mPurePath.__init__\u001b[1;34m(self, *args)\u001b[0m\n\u001b[0;32m    372\u001b[0m \u001b[38;5;28;01mif\u001b[39;00m \u001b[38;5;129;01mnot\u001b[39;00m \u001b[38;5;28misinstance\u001b[39m(path, \u001b[38;5;28mstr\u001b[39m):\n\u001b[1;32m--> 373\u001b[0m     \u001b[38;5;28;01mraise\u001b[39;00m \u001b[38;5;167;01mTypeError\u001b[39;00m(\n\u001b[0;32m    374\u001b[0m         \u001b[38;5;124m\"\u001b[39m\u001b[38;5;124margument should be a str or an os.PathLike \u001b[39m\u001b[38;5;124m\"\u001b[39m\n\u001b[0;32m    375\u001b[0m         \u001b[38;5;124m\"\u001b[39m\u001b[38;5;124mobject where __fspath__ returns a str, \u001b[39m\u001b[38;5;124m\"\u001b[39m\n\u001b[0;32m    376\u001b[0m         \u001b[38;5;124mf\u001b[39m\u001b[38;5;124m\"\u001b[39m\u001b[38;5;124mnot \u001b[39m\u001b[38;5;132;01m{\u001b[39;00m\u001b[38;5;28mtype\u001b[39m(path)\u001b[38;5;241m.\u001b[39m\u001b[38;5;18m__name__\u001b[39m\u001b[38;5;132;01m!r}\u001b[39;00m\u001b[38;5;124m\"\u001b[39m)\n\u001b[0;32m    377\u001b[0m paths\u001b[38;5;241m.\u001b[39mappend(path)\n",
      "\u001b[1;31mTypeError\u001b[0m: argument should be a str or an os.PathLike object where __fspath__ returns a str, not 'NoneType'",
      "\nThe above exception was the direct cause of the following exception:\n",
      "\u001b[1;31mCustomException\u001b[0m                           Traceback (most recent call last)",
      "Cell \u001b[1;32mIn[66], line 22\u001b[0m, in \u001b[0;36mTrainingPipeline.run_pipeline\u001b[1;34m(self)\u001b[0m\n\u001b[0;32m     21\u001b[0m \u001b[38;5;28;01mtry\u001b[39;00m:\n\u001b[1;32m---> 22\u001b[0m     data_ingestion_artifacts \u001b[38;5;241m=\u001b[39m \u001b[38;5;28;43mself\u001b[39;49m\u001b[38;5;241;43m.\u001b[39;49m\u001b[43mstart_data_ingestion\u001b[49m\u001b[43m(\u001b[49m\u001b[43m)\u001b[49m\n\u001b[0;32m     23\u001b[0m \u001b[38;5;28;01mexcept\u001b[39;00m \u001b[38;5;167;01mException\u001b[39;00m \u001b[38;5;28;01mas\u001b[39;00m e:\n",
      "Cell \u001b[1;32mIn[66], line 17\u001b[0m, in \u001b[0;36mTrainingPipeline.start_data_ingestion\u001b[1;34m(self)\u001b[0m\n\u001b[0;32m     16\u001b[0m \u001b[38;5;28;01mexcept\u001b[39;00m \u001b[38;5;167;01mException\u001b[39;00m \u001b[38;5;28;01mas\u001b[39;00m e:\n\u001b[1;32m---> 17\u001b[0m     \u001b[38;5;28;01mraise\u001b[39;00m CustomException(e, sys) \u001b[38;5;28;01mfrom\u001b[39;00m \u001b[38;5;21;01me\u001b[39;00m\n",
      "\u001b[1;31mCustomException\u001b[0m: Error occurred python script name [C:\\Users\\avina\\AppData\\Local\\Temp\\ipykernel_5896\\1738430541.py] line number [9] error message [argument should be a str or an os.PathLike object where __fspath__ returns a str, not 'NoneType']",
      "\nThe above exception was the direct cause of the following exception:\n",
      "\u001b[1;31mCustomException\u001b[0m                           Traceback (most recent call last)",
      "Cell \u001b[1;32mIn[67], line 2\u001b[0m\n\u001b[0;32m      1\u001b[0m obj \u001b[38;5;241m=\u001b[39m TrainingPipeline()\n\u001b[1;32m----> 2\u001b[0m \u001b[43mobj\u001b[49m\u001b[38;5;241;43m.\u001b[39;49m\u001b[43mrun_pipeline\u001b[49m\u001b[43m(\u001b[49m\u001b[43m)\u001b[49m\n",
      "Cell \u001b[1;32mIn[66], line 24\u001b[0m, in \u001b[0;36mTrainingPipeline.run_pipeline\u001b[1;34m(self)\u001b[0m\n\u001b[0;32m     22\u001b[0m     data_ingestion_artifacts \u001b[38;5;241m=\u001b[39m \u001b[38;5;28mself\u001b[39m\u001b[38;5;241m.\u001b[39mstart_data_ingestion()\n\u001b[0;32m     23\u001b[0m \u001b[38;5;28;01mexcept\u001b[39;00m \u001b[38;5;167;01mException\u001b[39;00m \u001b[38;5;28;01mas\u001b[39;00m e:\n\u001b[1;32m---> 24\u001b[0m     \u001b[38;5;28;01mraise\u001b[39;00m CustomException(e, sys) \u001b[38;5;28;01mfrom\u001b[39;00m \u001b[38;5;21;01me\u001b[39;00m\n",
      "\u001b[1;31mCustomException\u001b[0m: Error occurred python script name [C:\\Users\\avina\\AppData\\Local\\Temp\\ipykernel_5896\\1738430541.py] line number [22] error message [Error occurred python script name [C:\\Users\\avina\\AppData\\Local\\Temp\\ipykernel_5896\\1738430541.py] line number [9] error message [argument should be a str or an os.PathLike object where __fspath__ returns a str, not 'NoneType']]"
     ]
    }
   ],
   "source": [
    "obj = TrainingPipeline()\n",
    "obj.run_pipeline()"
   ]
  },
  {
   "cell_type": "code",
   "execution_count": null,
   "metadata": {},
   "outputs": [],
   "source": []
  }
 ],
 "metadata": {
  "kernelspec": {
   "display_name": "nlp",
   "language": "python",
   "name": "python3"
  },
  "language_info": {
   "codemirror_mode": {
    "name": "ipython",
    "version": 3
   },
   "file_extension": ".py",
   "mimetype": "text/x-python",
   "name": "python",
   "nbconvert_exporter": "python",
   "pygments_lexer": "ipython3",
   "version": "3.12.5"
  }
 },
 "nbformat": 4,
 "nbformat_minor": 2
}
